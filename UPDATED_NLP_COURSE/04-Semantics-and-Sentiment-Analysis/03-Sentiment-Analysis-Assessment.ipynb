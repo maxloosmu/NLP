{
 "cells": [
  {
   "cell_type": "markdown",
   "metadata": {
    "collapsed": true
   },
   "source": [
    "___\n",
    "\n",
    "<a href='http://www.pieriandata.com'> <img src='../Pierian_Data_Logo.png' /></a>\n",
    "___"
   ]
  },
  {
   "cell_type": "markdown",
   "metadata": {},
   "source": [
    "# Sentiment Analysis Assessment - Solution\n",
    "\n",
    "## Task #1: Perform vector arithmetic on your own words\n",
    "Write code that evaluates vector arithmetic on your own set of related words. The goal is to come as close to an expected word as possible. Please feel free to share success stories in the Q&A Forum for this section!"
   ]
  },
  {
   "cell_type": "code",
   "execution_count": null,
   "metadata": {},
   "outputs": [],
   "source": []
  },
  {
   "cell_type": "code",
   "execution_count": 3,
   "metadata": {},
   "outputs": [],
   "source": [
    "# Import spaCy and load the language library. Remember to use a larger model!\n",
    "import spacy\n",
    "nlp = spacy.load('en_core_web_md')"
   ]
  },
  {
   "cell_type": "code",
   "execution_count": 6,
   "metadata": {},
   "outputs": [
    {
     "name": "stdout",
     "output_type": "stream",
     "text": [
      "Word: lion, Vector: 55.14573486169834\n",
      "Word: witch, Vector: 41.747587495539605\n",
      "Word: wardrobe, Vector: 30.373551945600926\n"
     ]
    }
   ],
   "source": [
    "# Choose the words you wish to compare, and obtain their vectors\n",
    "words = [\"lion\", \"witch\", \"wardrobe\"]\n",
    "word_vectors = []\n",
    "for word in words:\n",
    "    doc = nlp(word)\n",
    "    # Check if the word is in the vocabulary\n",
    "    if doc.has_vector:\n",
    "        word_vector = doc.vector\n",
    "        word_norm = doc.vector_norm\n",
    "        word_vectors.append((word, word_norm))\n",
    "    else:\n",
    "        word_vectors.append((word, None))\n",
    "for word, vector in word_vectors:\n",
    "    if vector is not None:\n",
    "        print(f\"Word: {word}, Vector: {vector}\")\n",
    "    else:\n",
    "        print(f\"Word: {word} is not in the spaCy vocabulary.\")"
   ]
  },
  {
   "cell_type": "code",
   "execution_count": 16,
   "metadata": {},
   "outputs": [
    {
     "name": "stdout",
     "output_type": "stream",
     "text": [
      "Cosine Similarity: 0.7641\n"
     ]
    }
   ],
   "source": [
    "# Import spatial and define a cosine_similarity function\n",
    "from sklearn.metrics.pairwise import cosine_similarity\n",
    "\n",
    "def calculate_cosine_similarity(vector1, vector2):\n",
    "    # Reshape the vectors if needed (for compatibility with sklearn)\n",
    "    vector1 = vector1.reshape(1, -1)\n",
    "    vector2 = vector2.reshape(1, -1)\n",
    "    \n",
    "    # Calculate the cosine similarity\n",
    "    similarity = cosine_similarity(vector1, vector2)\n",
    "#     print(similarity)\n",
    "    return similarity[0][0]\n",
    "\n",
    "# Example usage:\n",
    "vector1 = nlp(\"king\").vector\n",
    "vector2 = nlp(\"ruler\").vector\n",
    "\n",
    "similarity = calculate_cosine_similarity(vector1, vector2)\n",
    "print(f\"Cosine Similarity: {similarity:.4f}\")"
   ]
  },
  {
   "cell_type": "code",
   "execution_count": 19,
   "metadata": {},
   "outputs": [
    {
     "name": "stdout",
     "output_type": "stream",
     "text": [
      "Cosine Similarity: 0.7641\n"
     ]
    }
   ],
   "source": [
    "from scipy.spatial import distance\n",
    "\n",
    "def calc_cosine_similarity(vector1, vector2):\n",
    "    similarity = 1 - distance.cosine(vector1, vector2)\n",
    "    return similarity\n",
    "\n",
    "vector1 = nlp(\"king\").vector\n",
    "vector2 = nlp(\"ruler\").vector\n",
    "\n",
    "similarity = calculate_cosine_similarity(vector1, vector2)\n",
    "print(f\"Cosine Similarity: {similarity:.4f}\")"
   ]
  },
  {
   "cell_type": "code",
   "execution_count": 22,
   "metadata": {},
   "outputs": [],
   "source": [
    "# Write an expression for vector arithmetic\n",
    "# For example: new_vector = word1 - word2 + word3\n",
    "king = nlp.vocab['king'].vector\n",
    "ruler = nlp.vocab['ruler'].vector\n",
    "# woman = nlp.vocab['woman'].vector\n",
    "new_vector = king - ruler"
   ]
  },
  {
   "cell_type": "code",
   "execution_count": 23,
   "metadata": {},
   "outputs": [
    {
     "name": "stdout",
     "output_type": "stream",
     "text": [
      "['king', 'nothin', 'havin', 'and', 'somethin', 'those', 'there', 'that', 'they', 'ought']\n"
     ]
    }
   ],
   "source": [
    "# List the top ten closest vectors in the vocabulary to the result of the expression above\n",
    "computed_similarities = []\n",
    "\n",
    "for word in nlp.vocab:\n",
    "    # Ignore words without vectors and mixed-case words:\n",
    "    if word.has_vector:\n",
    "        if word.is_lower:\n",
    "            if word.is_alpha:\n",
    "                similarity = calculate_cosine_similarity(new_vector, word.vector)\n",
    "                computed_similarities.append((word, similarity))\n",
    "\n",
    "computed_similarities = sorted(computed_similarities, key=lambda item: -item[1])\n",
    "\n",
    "print([w[0].text for w in computed_similarities[:10]])"
   ]
  },
  {
   "cell_type": "markdown",
   "metadata": {},
   "source": [
    "#### CHALLENGE: Write a function that takes in 3 strings, performs a-b+c arithmetic, and returns a top-ten result"
   ]
  },
  {
   "cell_type": "code",
   "execution_count": 20,
   "metadata": {},
   "outputs": [],
   "source": [
    "def vector_math(a,b,c):\n",
    "    aa = nlp(a).vector\n",
    "    bb = nlp(b).vector\n",
    "    cc = nlp(c).vector\n",
    "    new_vector = aa - bb + cc\n",
    "    computed_similarities = []\n",
    "\n",
    "    for word in nlp.vocab:\n",
    "        # Ignore words without vectors and mixed-case words:\n",
    "        if word.has_vector:\n",
    "            if word.is_lower:\n",
    "                if word.is_alpha:\n",
    "                    similarity = calc_cosine_similarity(new_vector, word.vector)\n",
    "                    computed_similarities.append((word, similarity))\n",
    "\n",
    "    computed_similarities = sorted(computed_similarities, key=lambda item: -item[1])\n",
    "\n",
    "    print([w[0].text for w in computed_similarities[:10]])"
   ]
  },
  {
   "cell_type": "code",
   "execution_count": 21,
   "metadata": {},
   "outputs": [
    {
     "name": "stdout",
     "output_type": "stream",
     "text": [
      "['king', 'ruler', 'and', 'that', 'havin', 'where', 'she', 'they', 'woman', 'somethin']\n"
     ]
    }
   ],
   "source": [
    "# Test the function on known words:\n",
    "vector_math('king','man','woman')"
   ]
  },
  {
   "cell_type": "markdown",
   "metadata": {},
   "source": [
    "## Task #2: Perform VADER Sentiment Analysis on your own review\n",
    "Write code that returns a set of SentimentIntensityAnalyzer polarity scores based on your own written review."
   ]
  },
  {
   "cell_type": "code",
   "execution_count": 25,
   "metadata": {},
   "outputs": [
    {
     "name": "stderr",
     "output_type": "stream",
     "text": [
      "[nltk_data] Downloading package vader_lexicon to\n",
      "[nltk_data]     C:\\Users\\Max\\AppData\\Roaming\\nltk_data...\n"
     ]
    }
   ],
   "source": [
    "# Import SentimentIntensityAnalyzer and create an sid object\n",
    "import nltk\n",
    "nltk.download('vader_lexicon')\n",
    "from nltk.sentiment.vader import SentimentIntensityAnalyzer\n",
    "sid = SentimentIntensityAnalyzer()"
   ]
  },
  {
   "cell_type": "code",
   "execution_count": 34,
   "metadata": {},
   "outputs": [],
   "source": [
    "# Write a review as one continuous string (multiple sentences are ok)\n",
    "review = 'this horrible movie is actually very good.  I rate it 4 out of 5.'"
   ]
  },
  {
   "cell_type": "code",
   "execution_count": 35,
   "metadata": {},
   "outputs": [
    {
     "data": {
      "text/plain": [
       "{'neg': 0.21, 'neu': 0.599, 'pos': 0.191, 'compound': -0.079}"
      ]
     },
     "execution_count": 35,
     "metadata": {},
     "output_type": "execute_result"
    }
   ],
   "source": [
    "# Obtain the sid scores for your review\n",
    "sid.polarity_scores(review)"
   ]
  },
  {
   "cell_type": "markdown",
   "metadata": {},
   "source": [
    "### CHALLENGE: Write a function that takes in a review and returns a score of \"Positive\", \"Negative\" or \"Neutral\""
   ]
  },
  {
   "cell_type": "code",
   "execution_count": 32,
   "metadata": {},
   "outputs": [],
   "source": [
    "def review_rating(string):\n",
    "    # Get sentiment scores for the review\n",
    "    sentiment_scores = sid.polarity_scores(string)\n",
    "\n",
    "    # Determine sentiment based on the compound score\n",
    "    compound_score = sentiment_scores['compound']\n",
    "    negative = sentiment_scores['neg']\n",
    "    neutral = sentiment_scores['neu']\n",
    "    positive = sentiment_scores['pos']\n",
    "\n",
    "#     if compound_score >= 0.05:\n",
    "#         return \"Positive\"\n",
    "#     elif compound_score <= -0.05:\n",
    "#         return \"Negative\"\n",
    "#     else:\n",
    "#         return \"Neutral\"\n",
    "\n",
    "    largest_value = None\n",
    "    largest_key = None\n",
    "\n",
    "    # Iterate through the dictionary\n",
    "    for key, value in sentiment_scores.items():\n",
    "        if key != 'compound' and (largest_value is None or value > largest_value):\n",
    "            largest_value = value\n",
    "            largest_key = key\n",
    "    \n",
    "    if largest_key == 'pos':\n",
    "        return \"Positive\"\n",
    "    elif largest_key == 'neg':\n",
    "        return \"Negative\"\n",
    "    else:\n",
    "        return \"Neutral\""
   ]
  },
  {
   "cell_type": "code",
   "execution_count": 33,
   "metadata": {},
   "outputs": [
    {
     "data": {
      "text/plain": [
       "'Neutral'"
      ]
     },
     "execution_count": 33,
     "metadata": {},
     "output_type": "execute_result"
    }
   ],
   "source": [
    "# Test the function on your review above:\n",
    "review_rating(review)"
   ]
  },
  {
   "cell_type": "markdown",
   "metadata": {},
   "source": [
    "## Great job!"
   ]
  }
 ],
 "metadata": {
  "kernelspec": {
   "display_name": "Python 3",
   "language": "python",
   "name": "python3"
  },
  "language_info": {
   "codemirror_mode": {
    "name": "ipython",
    "version": 3
   },
   "file_extension": ".py",
   "mimetype": "text/x-python",
   "name": "python",
   "nbconvert_exporter": "python",
   "pygments_lexer": "ipython3",
   "version": "3.7.11"
  }
 },
 "nbformat": 4,
 "nbformat_minor": 2
}
